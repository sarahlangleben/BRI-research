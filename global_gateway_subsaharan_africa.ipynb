{
 "cells": [
  {
   "cell_type": "code",
   "execution_count": 3,
   "metadata": {},
   "outputs": [
    {
     "name": "stderr",
     "output_type": "stream",
     "text": [
      "Since the GPL-licensed package `unidecode` is not installed, using Python's `unicodedata` package which yields worse results.\n"
     ]
    }
   ],
   "source": [
    "from bs4 import BeautifulSoup\n",
    "import requests\n",
    "from cleantext import clean\n",
    "import re"
   ]
  },
  {
   "cell_type": "code",
   "execution_count": 26,
   "metadata": {},
   "outputs": [],
   "source": [
    "url = \"https://international-partnerships.ec.europa.eu/policies/global-gateway/initiatives-region/initiatives-sub-saharan-africa_en?page=0\"\n",
    "req = requests.get(url)\n",
    "soup = BeautifulSoup(req.text, \"html.parser\")\n",
    "# get the titles\n",
    "titles = soup.find_all(class_ = \"ecl-content-block__title\")\n",
    "# descriptions. these are two separate lists, indices correspond to eachother so don't move them out of order\n",
    "descriptions = soup.find_all(class_ = \"ecl-content-block__description\")"
   ]
  },
  {
   "cell_type": "code",
   "execution_count": 27,
   "metadata": {},
   "outputs": [
    {
     "data": {
      "text/plain": [
       "[<h1 class=\"ecl-content-block__title\">Africa Europe Digital Innovation Bridge</h1>,\n",
       " <h1 class=\"ecl-content-block__title\"><a class=\"ecl-link ecl-link--standalone\" href=\"/policies/global-gateway/africa-europe-green-energy_en\">Africa-Europe Green Energy</a></h1>,\n",
       " <h1 class=\"ecl-content-block__title\">AU-EU Innovation Agenda</h1>,\n",
       " <h1 class=\"ecl-content-block__title\">Bio2Watt</h1>,\n",
       " <h1 class=\"ecl-content-block__title\">Climate Change Adaptation and Resilience in Africa</h1>,\n",
       " <h1 class=\"ecl-content-block__title\">Djibouti second airport development project</h1>,\n",
       " <h1 class=\"ecl-content-block__title\">e-Youth in Mozambique</h1>,\n",
       " <h1 class=\"ecl-content-block__title\"><a class=\"ecl-link ecl-link--standalone\" href=\"/policies/global-gateway/electricity-rural-areas-madagascar_en\">Electricity in Rural Areas in Madagascar</a></h1>,\n",
       " <h1 class=\"ecl-content-block__title\">EU-Africa partnership in Space and Earth Observation</h1>,\n",
       " <h1 class=\"ecl-content-block__title\">EU-AU Data Flagship</h1>]"
      ]
     },
     "execution_count": 27,
     "metadata": {},
     "output_type": "execute_result"
    }
   ],
   "source": [
    "titles"
   ]
  },
  {
   "cell_type": "code",
   "execution_count": 28,
   "metadata": {},
   "outputs": [
    {
     "data": {
      "text/plain": [
       "[<div class=\"ecl-content-block__description\"><p>The initiative supports partner countries to strengthen their digital and innovation ecosystems and promote intercontinental cooperation between stakeholders in Africa and Europe. The ultimate vision is to establish a single market for digital innovation between both continents.</p></div>,\n",
       " <div class=\"ecl-content-block__description\"><p>This Team Europe Initiative aims to engage European and African public and private sector actors to increase electricity production and access to energy, promote energy efficiency, support reforms for a conducive regulatory environment for private investment, and foster market integration.</p></div>,\n",
       " <div class=\"ecl-content-block__description\"><p>The objectives are to translate innovative capacities and results into tangible outputs, strengthen innovation ecosystems, develop sustainable and mutually beneficial higher education and R&amp;I partnerships, and scale up instruments and programmes that can take forward existing successful initiatives.</p></div>,\n",
       " <div class=\"ecl-content-block__description\"><p>Bio2Watt is a waste to value project in South Africa, which will expand to Mozambique and Uganda. Bio2Watt plants treat animal waste and other waste sources to reduce biogas. This creates a biobased energy source, captures and limits methane emissions and reduces the pollution of water resources.</p></div>,\n",
       " <div class=\"ecl-content-block__description\"><p>The Team Europe Initiative on Climate Change Adaptation and Resilience will bring together existing and new climate change adaptation programmes of over €1 billion and leverage its impact by improved coordination and a reinforced policy dialogue on adaptation between the EU and AU.</p></div>,\n",
       " <div class=\"ecl-content-block__description\"><p>In 2023 the remaining funds from the Fonds d’études et d’aide au secteur privé (FASEP) will be used to finance the completion of feasibility studies and allow for a roundtable of potential donors.</p></div>,\n",
       " <div class=\"ecl-content-block__description\"><p>Activities will start under VaMoz Digital in 2023. The project strengthens inclusive digital ecosystems, enhances digital literacy and skills for youth, particularly for girls and those living in vulnerable situations. It provides incubation and acceleration of sustainable digital start-ups.</p></div>,\n",
       " <div class=\"ecl-content-block__description\"><p>The project will focus on the implementation of mini-grids in rural areas in the South and West of Madagascar.</p></div>,\n",
       " <div class=\"ecl-content-block__description\"><p>The partnership will strengthen capacities in using space data and technologies, provide services that can help tackle environmental challenges and give a boost to space businesses. The EU will support the access and use of earth observation data in Africa by leveraging the EU space programme.</p></div>,\n",
       " <div class=\"ecl-content-block__description\"><p>The EU-AU Data Flagship will support the development of Green Data Centres, with the aim to support Africa in building a data economy and foresting its data sovereignty through secure data storage and processing capacities.</p></div>]"
      ]
     },
     "execution_count": 28,
     "metadata": {},
     "output_type": "execute_result"
    }
   ],
   "source": [
    "descriptions"
   ]
  },
  {
   "cell_type": "code",
   "execution_count": 39,
   "metadata": {},
   "outputs": [],
   "source": [
    "def clean_title(original_title):\n",
    "  \"\"\"removing html tags from title\"\"\"\n",
    "  list_title = list(str(original_title))\n",
    "  starting_point = list_title.index(\">\")+1\n",
    "  stopping_point = list_title.index(\"<\", 59)\n",
    "  output = \"\"\n",
    "  for x in range(starting_point, stopping_point):\n",
    "    output= output + list_title[x]\n",
    "    x+=1\n",
    "  return str(output)"
   ]
  },
  {
   "cell_type": "code",
   "execution_count": 52,
   "metadata": {},
   "outputs": [
    {
     "name": "stdout",
     "output_type": "stream",
     "text": [
      "<h1 class=\"ecl-content-block__title\">Africa Europe Digital Innovation Bridge</h1>:<div class=\"ecl-content-block__description\"><p>The initiative supports partner countries to strengthen their digital and innovation ecosystems and promote intercontinental cooperation between stakeholders in Africa and Europe. The ultimate vision is to establish a single market for digital innovation between both continents.</p></div>\n",
      "\n",
      "<h1 class=\"ecl-content-block__title\"><a class=\"ecl-link ecl-link--standalone\" href=\"/policies/global-gateway/africa-europe-green-energy_en\">Africa-Europe Green Energy</a></h1>:<div class=\"ecl-content-block__description\"><p>This Team Europe Initiative aims to engage European and African public and private sector actors to increase electricity production and access to energy, promote energy efficiency, support reforms for a conducive regulatory environment for private investment, and foster market integration.</p></div>\n",
      "\n",
      "<h1 class=\"ecl-content-block__title\">AU-EU Innovation Agenda</h1>:<div class=\"ecl-content-block__description\"><p>The objectives are to translate innovative capacities and results into tangible outputs, strengthen innovation ecosystems, develop sustainable and mutually beneficial higher education and R&amp;I partnerships, and scale up instruments and programmes that can take forward existing successful initiatives.</p></div>\n",
      "\n",
      "<h1 class=\"ecl-content-block__title\">Bio2Watt</h1>:<div class=\"ecl-content-block__description\"><p>Bio2Watt is a waste to value project in South Africa, which will expand to Mozambique and Uganda. Bio2Watt plants treat animal waste and other waste sources to reduce biogas. This creates a biobased energy source, captures and limits methane emissions and reduces the pollution of water resources.</p></div>\n",
      "\n",
      "<h1 class=\"ecl-content-block__title\">Climate Change Adaptation and Resilience in Africa</h1>:<div class=\"ecl-content-block__description\"><p>The Team Europe Initiative on Climate Change Adaptation and Resilience will bring together existing and new climate change adaptation programmes of over €1 billion and leverage its impact by improved coordination and a reinforced policy dialogue on adaptation between the EU and AU.</p></div>\n",
      "\n",
      "<h1 class=\"ecl-content-block__title\">Djibouti second airport development project</h1>:<div class=\"ecl-content-block__description\"><p>In 2023 the remaining funds from the Fonds d’études et d’aide au secteur privé (FASEP) will be used to finance the completion of feasibility studies and allow for a roundtable of potential donors.</p></div>\n",
      "\n",
      "<h1 class=\"ecl-content-block__title\">e-Youth in Mozambique</h1>:<div class=\"ecl-content-block__description\"><p>Activities will start under VaMoz Digital in 2023. The project strengthens inclusive digital ecosystems, enhances digital literacy and skills for youth, particularly for girls and those living in vulnerable situations. It provides incubation and acceleration of sustainable digital start-ups.</p></div>\n",
      "\n",
      "<h1 class=\"ecl-content-block__title\"><a class=\"ecl-link ecl-link--standalone\" href=\"/policies/global-gateway/electricity-rural-areas-madagascar_en\">Electricity in Rural Areas in Madagascar</a></h1>:<div class=\"ecl-content-block__description\"><p>The project will focus on the implementation of mini-grids in rural areas in the South and West of Madagascar.</p></div>\n",
      "\n",
      "<h1 class=\"ecl-content-block__title\">EU-Africa partnership in Space and Earth Observation</h1>:<div class=\"ecl-content-block__description\"><p>The partnership will strengthen capacities in using space data and technologies, provide services that can help tackle environmental challenges and give a boost to space businesses. The EU will support the access and use of earth observation data in Africa by leveraging the EU space programme.</p></div>\n",
      "\n",
      "<h1 class=\"ecl-content-block__title\">EU-AU Data Flagship</h1>:<div class=\"ecl-content-block__description\"><p>The EU-AU Data Flagship will support the development of Green Data Centres, with the aim to support Africa in building a data economy and foresting its data sovereignty through secure data storage and processing capacities.</p></div>\n",
      "\n"
     ]
    }
   ],
   "source": [
    "def get_desc_and_title(tlist, dlist):\n",
    "  \"\"\"function to connect the title and description.\n",
    "  basic for loop on index\"\"\"\n",
    "  for i in range(len(tlist)):\n",
    "    print(str(tlist[i]) + \":\" + str(dlist[i]) + '\\n')\n",
    "    i+=1\n",
    "\n",
    "get_desc_and_title(titles, descriptions)\n",
    "\n"
   ]
  },
  {
   "cell_type": "code",
   "execution_count": null,
   "metadata": {},
   "outputs": [],
   "source": []
  }
 ],
 "metadata": {
  "kernelspec": {
   "display_name": "Python 3",
   "language": "python",
   "name": "python3"
  },
  "language_info": {
   "codemirror_mode": {
    "name": "ipython",
    "version": 3
   },
   "file_extension": ".py",
   "mimetype": "text/x-python",
   "name": "python",
   "nbconvert_exporter": "python",
   "pygments_lexer": "ipython3",
   "version": "3.10.11"
  }
 },
 "nbformat": 4,
 "nbformat_minor": 2
}
