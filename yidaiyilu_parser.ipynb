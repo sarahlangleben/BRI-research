{
 "cells": [
  {
   "cell_type": "code",
   "execution_count": 4,
   "metadata": {},
   "outputs": [],
   "source": [
    "from bs4 import BeautifulSoup\n",
    "import requests"
   ]
  },
  {
   "cell_type": "code",
   "execution_count": 37,
   "metadata": {},
   "outputs": [
    {
     "data": {
      "text/plain": [
       "['https://eng.yidaiyilu.gov.cn\"/p/0H647R18.html\"',\n",
       " 'https://eng.yidaiyilu.gov.cn\"/p/0PPN0HMN.html\"',\n",
       " 'https://eng.yidaiyilu.gov.cn\"/p/0N4P7CF0.html\"',\n",
       " '\"https://eng.yidaiyilu.gov.cn/qwyw/rdxw/291466.htm\"',\n",
       " '\"https://eng.yidaiyilu.gov.cn/qwyw/rdxw/290831.htm\"',\n",
       " '\"https://eng.yidaiyilu.gov.cn/wcm.files/upload/CMSydylyw/202209/202209190500015.pdf\"',\n",
       " '\"https://eng.yidaiyilu.gov.cn/qwyw/rdxw/220178.htm\"',\n",
       " '\"https://eng.yidaiyilu.gov.cn/qwyw/rdxw/147089.htm\"',\n",
       " 'https://eng.yidaiyilu.gov.cn\"/p/006Q9GBH.html\"',\n",
       " 'https://eng.yidaiyilu.gov.cn\"/p/0CESAH1N.html\"',\n",
       " 'https://eng.yidaiyilu.gov.cn\"/p/041D0RIJ.html\"',\n",
       " 'https://eng.yidaiyilu.gov.cn\"/p/86739.html\"',\n",
       " 'https://eng.yidaiyilu.gov.cn\"/p/46076.html\"',\n",
       " 'https://eng.yidaiyilu.gov.cn\"/p/34863.html\"',\n",
       " 'https://eng.yidaiyilu.gov.cn\"/p/30277.html\"',\n",
       " 'https://eng.yidaiyilu.gov.cn\"/p/16639.html\"',\n",
       " 'https://eng.yidaiyilu.gov.cn\"/p/13754.html\"',\n",
       " 'https://eng.yidaiyilu.gov.cn\"/p/12731.html\"',\n",
       " 'https://eng.yidaiyilu.gov.cn\"/p/12479.html\"',\n",
       " 'https://eng.yidaiyilu.gov.cn\"/p/10477.html\"',\n",
       " 'https://eng.yidaiyilu.gov.cn\"/p/1084.html\"']"
      ]
     },
     "execution_count": 37,
     "metadata": {},
     "output_type": "execute_result"
    }
   ],
   "source": [
    "url = \"https://eng.yidaiyilu.gov.cn/list/w/know_about\"\n",
    "req = requests.get(url)\n",
    "soup = BeautifulSoup(req.text, \"html.parser\")\n",
    "# setup\n",
    "all_links = soup.ul\n",
    "# all the links in the <ul> tag on the yidaiyilu site. This contains all the sources they link in their online list. \n",
    "all_links = str(all_links)\n",
    "# turning into a string object instead of a bs4 object. \n",
    "all_content_list = all_links.split(\" \")\n",
    "# splitting based on spaces, this is just to make it into a legible list. \n",
    "links_list = []\n",
    "i = 0\n",
    "for value in all_content_list: \n",
    "    # looping through the list, building a new list with only the links. \n",
    "    if \"href\" in value: \n",
    "        links_list.append(value)\n",
    "links_cleaned_list = []\n",
    "for value in links_list: \n",
    "    # cleaning the links-- if it doesn't have a full https in front of it already adding it, removing the html href tag. \n",
    "    if \"https://eng.yidaiyilu.gov.cn\" not in value:\n",
    "        full_link = \"https://eng.yidaiyilu.gov.cn\"+value[5:]\n",
    "        links_cleaned_list.append(full_link.replace('', \"\"))\n",
    "    else:\n",
    "        links_cleaned_list.append(value[5:])\n",
    "links_cleaned_list"
   ]
  },
  {
   "cell_type": "code",
   "execution_count": null,
   "metadata": {},
   "outputs": [],
   "source": []
  }
 ],
 "metadata": {
  "kernelspec": {
   "display_name": "Python 3",
   "language": "python",
   "name": "python3"
  },
  "language_info": {
   "codemirror_mode": {
    "name": "ipython",
    "version": 3
   },
   "file_extension": ".py",
   "mimetype": "text/x-python",
   "name": "python",
   "nbconvert_exporter": "python",
   "pygments_lexer": "ipython3",
   "version": "3.10.11"
  }
 },
 "nbformat": 4,
 "nbformat_minor": 2
}
