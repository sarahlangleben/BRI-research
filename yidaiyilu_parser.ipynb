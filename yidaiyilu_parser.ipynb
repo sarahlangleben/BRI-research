{
 "cells": [
  {
   "cell_type": "code",
   "execution_count": 339,
   "metadata": {},
   "outputs": [],
   "source": [
    "from bs4 import BeautifulSoup\n",
    "import requests\n",
    "from cleantext import clean"
   ]
  },
  {
   "cell_type": "code",
   "execution_count": 340,
   "metadata": {},
   "outputs": [
    {
     "name": "stdout",
     "output_type": "stream",
     "text": [
      "['https://eng.yidaiyilu.gov.cn/p/0H647R18.html', 'https://eng.yidaiyilu.gov.cn/p/0PPN0HMN.html', 'https://eng.yidaiyilu.gov.cn/p/0N4P7CF0.html', 'https://eng.yidaiyilu.gov.cn/p/006Q9GBH.html', 'https://eng.yidaiyilu.gov.cn/p/0CESAH1N.html', 'https://eng.yidaiyilu.gov.cn/p/041D0RIJ.html', 'https://eng.yidaiyilu.gov.cn/p/86739.html', 'https://eng.yidaiyilu.gov.cn/p/46076.html', 'https://eng.yidaiyilu.gov.cn/p/34863.html', 'https://eng.yidaiyilu.gov.cn/p/30277.html', 'https://eng.yidaiyilu.gov.cn/p/16639.html', 'https://eng.yidaiyilu.gov.cn/p/13754.html', 'https://eng.yidaiyilu.gov.cn/p/12731.html', 'https://eng.yidaiyilu.gov.cn/p/12479.html', 'https://eng.yidaiyilu.gov.cn/p/10477.html', 'https://eng.yidaiyilu.gov.cn/p/1084.html']\n"
     ]
    }
   ],
   "source": [
    "url = \"https://eng.yidaiyilu.gov.cn/list/w/know_about\"\n",
    "req = requests.get(url)\n",
    "soup = BeautifulSoup(req.text, \"html.parser\")\n",
    "# setup\n",
    "all_links = soup.ul\n",
    "# all the links in the <ul> tag on the yidaiyilu site. This contains all the sources they link in their online list. \n",
    "all_links = str(all_links)\n",
    "# turning into a string object instead of a bs4 object. \n",
    "all_content_list = all_links.split(\" \")\n",
    "# splitting based on spaces, this is just to make it into a legible list. \n",
    "links_list = []\n",
    "i = 0\n",
    "for value in all_content_list: \n",
    "    # looping through the list, building a new list with only the links. \n",
    "    if \"href\" in value: \n",
    "        links_list.append(value)\n",
    "links_cleaned_list = []\n",
    "for value in links_list: \n",
    "    # cleaning the links-- if it doesn't have a full https in front of it already adding it, removing the html href tag. \n",
    "    if \"https://eng.yidaiyilu.gov.cn\" not in value:\n",
    "        full_link = \"https://eng.yidaiyilu.gov.cn\"+value[5:]\n",
    "        links_cleaned_list.append(full_link.replace('\"', ''))\n",
    "    if value[-1] != \"l\":\n",
    "        value+\"l\"\n",
    "    else:\n",
    "        links_cleaned_list.append(value[5:])\n",
    "print(links_cleaned_list)"
   ]
  },
  {
   "cell_type": "code",
   "execution_count": 341,
   "metadata": {},
   "outputs": [],
   "source": [
    "# for each link:\n",
    "# \n",
    "# 1. create a new file (open())\n",
    "# 2. write the text content into the file\n",
    "# 3. close the file."
   ]
  },
  {
   "cell_type": "code",
   "execution_count": 346,
   "metadata": {},
   "outputs": [
    {
     "name": "stdout",
     "output_type": "stream",
     "text": [
      "https://eng.yidaiyilu.gov.cn/p/0H647R18.html\n",
      "https://eng.yidaiyilu.gov.cn/p/0PPN0HMN.html\n",
      "https://eng.yidaiyilu.gov.cn/p/0N4P7CF0.html\n",
      "https://eng.yidaiyilu.gov.cn/p/006Q9GBH.html\n",
      "https://eng.yidaiyilu.gov.cn/p/0CESAH1N.html\n",
      "https://eng.yidaiyilu.gov.cn/p/041D0RIJ.html\n",
      "https://eng.yidaiyilu.gov.cn/p/86739.html\n",
      "https://eng.yidaiyilu.gov.cn/p/46076.html\n",
      "https://eng.yidaiyilu.gov.cn/p/34863.html\n",
      "https://eng.yidaiyilu.gov.cn/p/30277.html\n",
      "https://eng.yidaiyilu.gov.cn/p/16639.html\n",
      "https://eng.yidaiyilu.gov.cn/p/13754.html\n",
      "https://eng.yidaiyilu.gov.cn/p/12731.html\n",
      "https://eng.yidaiyilu.gov.cn/p/12479.html\n",
      "https://eng.yidaiyilu.gov.cn/p/10477.html\n",
      "https://eng.yidaiyilu.gov.cn/p/1084.html\n"
     ]
    }
   ],
   "source": [
    "for link in links_cleaned_list:\n",
    "  print(link)"
   ]
  },
  {
   "cell_type": "code",
   "execution_count": 342,
   "metadata": {},
   "outputs": [],
   "source": [
    "# Getting the raw text data\n",
    "f = open(\"demo.txt\", \"w\")\n",
    "\"\"\"\"\n",
    "setup\n",
    "\"\"\"\n",
    "link = \"https://eng.yidaiyilu.gov.cn/p/0H647R18.html\"\n",
    "link_req = requests.get(link).text.encode(\"utf8\").decode(\"ascii\", \"ignore\")\n",
    "page_soup = BeautifulSoup(link_req, \"html.parser\")\n",
    "\n",
    "article_content = page_soup.find_all(\"p\")\n",
    "# everything with a <p> tag\n",
    "all_text = page_soup.find_all(string = True)\n",
    "# all the string content; useful for getting the date updated, source, editor\n",
    "title = page_soup.find_all(\"h1\")\n",
    "\n",
    "# f.write(str(link))\n",
    "# f.write(str(article_content))\n",
    "# f = open(\"title.txt\", \"w\")\n",
    "# f.write(str(text))\n",
    "# all_text\n",
    "# title\n",
    "# title=str(title).split(\"<\" or \">\")\n",
    "# title=list(title)"
   ]
  },
  {
   "cell_type": "code",
   "execution_count": 343,
   "metadata": {},
   "outputs": [],
   "source": [
    "\"\"\"\n",
    "Fixing up the Updated, Source fields\n",
    "\"\"\"\n",
    "for x in range(len(all_text)):\n",
    "  if \"Source:\" in all_text[x]: f.write(str(all_text[x]+ \" \"+ all_text[x+1])+\" \"+\"\\n\")\n",
    "    # print(all_text[x] + \" \"+ all_text[x+1])\n",
    "    # print(all_text[x] + \" \"+ all_text[x+1])\n",
    "  elif \"Updated:\" in all_text[x]: f.write(str(all_text[x]+ \" \"+ all_text[x+1]+\" \"+\"\\n\"))\n",
    "    # print(all_text[x]+ \" \"+all_text[x+1])\n",
    "  elif \"Editor:\" in all_text[x]: f.write(+str(all_text[x]+\" \"+ all_text[x+1]+\" \"+\"\\n\"))\n",
    "    # print(all_text[x]+\" \"+all_text[x+1])\n",
    "    # f.write(str(all_text[x]+\" \"+all_text[x+1]))\n",
    "    # print(all_text[x]+ \" \"+all_text[x+1])\n"
   ]
  },
  {
   "cell_type": "code",
   "execution_count": 344,
   "metadata": {},
   "outputs": [],
   "source": [
    "\"\"\"\n",
    "cleaning up the <p> content\n",
    "1. turn article_content into a list\n",
    "2. turn list contents into strings\n",
    "3. if not in there, write it into file, else don't.\n",
    "\n",
    "\"\"\"\n",
    "article_content_list = list(article_content)\n",
    "\n",
    "for content in article_content_list: \n",
    "  content = str(content)\n",
    "  if(\"data\" not in content):\n",
    "    content = content.replace(\"<p>\", \"\").replace(\"</p>\", \"\")\n",
    "    f.write(content + \"\\n\")\n"
   ]
  }
 ],
 "metadata": {
  "kernelspec": {
   "display_name": "Python 3",
   "language": "python",
   "name": "python3"
  },
  "language_info": {
   "codemirror_mode": {
    "name": "ipython",
    "version": 3
   },
   "file_extension": ".py",
   "mimetype": "text/x-python",
   "name": "python",
   "nbconvert_exporter": "python",
   "pygments_lexer": "ipython3",
   "version": "3.10.11"
  }
 },
 "nbformat": 4,
 "nbformat_minor": 2
}
